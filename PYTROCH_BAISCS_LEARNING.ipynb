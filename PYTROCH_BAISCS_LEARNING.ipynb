{
  "nbformat": 4,
  "nbformat_minor": 0,
  "metadata": {
    "colab": {
      "provenance": [],
      "authorship_tag": "ABX9TyMgVO/douyBKqn4fPwOKORq",
      "include_colab_link": true
    },
    "kernelspec": {
      "name": "python3",
      "display_name": "Python 3"
    },
    "language_info": {
      "name": "python"
    }
  },
  "cells": [
    {
      "cell_type": "markdown",
      "metadata": {
        "id": "view-in-github",
        "colab_type": "text"
      },
      "source": [
        "<a href=\"https://colab.research.google.com/github/dev-chaitanya-dewangan/PYTORCH_LEARNINGs/blob/main/PYTROCH_BAISCS_LEARNING.ipynb\" target=\"_parent\"><img src=\"https://colab.research.google.com/assets/colab-badge.svg\" alt=\"Open In Colab\"/></a>"
      ]
    },
    {
      "cell_type": "markdown",
      "source": [
        "# ***NEURAL NETOWKR IN PYTORCH***"
      ],
      "metadata": {
        "id": "VAIdzfR1Pr0L"
      }
    },
    {
      "cell_type": "code",
      "execution_count": null,
      "metadata": {
        "colab": {
          "base_uri": "https://localhost:8080/"
        },
        "id": "L_79lJ2SNEXB",
        "outputId": "8f7f7c8c-7343-4d4b-e858-7d10dd61a554"
      },
      "outputs": [
        {
          "output_type": "execute_result",
          "data": {
            "text/plain": [
              "tensor([[0.6194, 0.3088, 0.8664]])"
            ]
          },
          "metadata": {},
          "execution_count": 3
        }
      ],
      "source": [
        "import torch\n",
        "import torch.nn as nn\n",
        "torch.rand(1,3)"
      ]
    },
    {
      "cell_type": "code",
      "source": [
        "x= torch.tensor([[1],[3],[4],[5]],dtype=torch.float32)\n",
        "y_true = torch.tensor([[2],[3],[4],[6]],dtype=torch.float32)\n",
        "x_test=torch.tensor([[5]],dtype=torch.float32)\n",
        "lr=0.01\n",
        "loss=nn.MSELoss()\n",
        "model =nn.Linear(1,1)\n",
        "\n",
        "optmizer=torch.optim.SGD(model.parameters(),lr)\n",
        "\n",
        "for i in range (9):\n",
        "    y=model(x)\n",
        "    l=loss(y_true,y)\n",
        "    l.backward()\n",
        "    optmizer.step()\n",
        "    optmizer.zero_grad()\n",
        "    print(model(x_test).item())\n",
        "    # print(f\"epoch {i+1}: w={w}, loss={l}\")"
      ],
      "metadata": {
        "colab": {
          "base_uri": "https://localhost:8080/"
        },
        "id": "39duGCu643HF",
        "outputId": "2ce801d0-804c-40f4-c75e-0a83b448c654"
      },
      "execution_count": null,
      "outputs": [
        {
          "output_type": "stream",
          "name": "stdout",
          "text": [
            "3.0424070358276367\n",
            "3.7757763862609863\n",
            "4.3095316886901855\n",
            "4.697925567626953\n",
            "4.980465412139893\n",
            "5.185921669006348\n",
            "5.3352437019348145\n",
            "5.443689823150635\n",
            "5.522370338439941\n"
          ]
        }
      ]
    }
  ]
}